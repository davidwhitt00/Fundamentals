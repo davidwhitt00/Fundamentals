{
 "cells": [
  {
   "cell_type": "markdown",
   "metadata": {},
   "source": [
    "# Day 1"
   ]
  },
  {
   "cell_type": "markdown",
   "metadata": {},
   "source": [
    "Welcome to Python! Python is an incredibly powerful language that can do almost anything we want\n",
    "if you have gone through the install steps to successfully get Python3, jupyter, and PyCharm on your\n",
    "machine, then this will be easy; Otherwise, go back and install all of the necessary packages to run this"
   ]
  },
  {
   "cell_type": "markdown",
   "metadata": {},
   "source": [
    "## Variables"
   ]
  },
  {
   "cell_type": "markdown",
   "metadata": {},
   "source": [
    "Lets run with the basics first, Python (and all programming languages) use a little thing called varaibles.\n",
    "These variables are just like you remember from algebra. They are placeholders for actual values, whether that\n",
    "be numeric, words, or even True/False values. Most of the time, unlike in math class, we know what we want to put into the variables. Lets try it out"
   ]
  },
  {
   "cell_type": "code",
   "execution_count": 6,
   "metadata": {},
   "outputs": [],
   "source": [
    "x = 1"
   ]
  },
  {
   "cell_type": "markdown",
   "metadata": {},
   "source": [
    "The statement above is exactly what it looks like. It says 'x equals one', OR in programmer speak, 'give x a VALUE of one'. the programmer is the one that tells the computer what to do. Programming is giving the computer instructions, and the computer acts on those instructions explicitly. So what does 'x = 1' do?\n",
    "\n",
    "To put it simply, we told the computer to create a 'box', call it 'x', and give it a value of 1. Pretty cool, but what can we do with it? Lets create another variable"
   ]
  },
  {
   "cell_type": "code",
   "execution_count": 7,
   "metadata": {},
   "outputs": [],
   "source": [
    "y = 3"
   ]
  },
  {
   "cell_type": "markdown",
   "metadata": {},
   "source": [
    "So this time we created a variable named 'y' and gave it 3, so what? Well, while we're talking about variables, lets do some math"
   ]
  },
  {
   "cell_type": "code",
   "execution_count": 8,
   "metadata": {},
   "outputs": [],
   "source": [
    "z = x + y"
   ]
  },
  {
   "cell_type": "markdown",
   "metadata": {},
   "source": [
    "Now that we have a variable 'x' and 'y', we can take the two values they hold, add them together, and ASSIGN it to a NEW variable called 'z'. Math is a huge part of Python, notice how similar it looks to high school math"
   ]
  },
  {
   "cell_type": "markdown",
   "metadata": {},
   "source": [
    "now that we have z how do we see it? Look at the cell below this text and notice the ```print(z)``` this is pythons way of 'printing' to show the value of variables. So lets run it. Near the top of this page, click Cell > Run All Cells. This will run all of the cells as the name implies, but notice what appears below the cell below afterwards..."
   ]
  },
  {
   "cell_type": "code",
   "execution_count": 10,
   "metadata": {},
   "outputs": [
    {
     "name": "stdout",
     "output_type": "stream",
     "text": [
      "4\n"
     ]
    }
   ],
   "source": [
    "print(z)"
   ]
  }
 ],
 "metadata": {
  "kernelspec": {
   "display_name": "Python 3",
   "language": "python",
   "name": "python3"
  },
  "language_info": {
   "codemirror_mode": {
    "name": "ipython",
    "version": 3
   },
   "file_extension": ".py",
   "mimetype": "text/x-python",
   "name": "python",
   "nbconvert_exporter": "python",
   "pygments_lexer": "ipython3",
   "version": "3.6.6"
  }
 },
 "nbformat": 4,
 "nbformat_minor": 2
}
