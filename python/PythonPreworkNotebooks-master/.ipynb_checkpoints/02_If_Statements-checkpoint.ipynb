{
 "cells": [
  {
   "cell_type": "markdown",
   "metadata": {},
   "source": [
    "# Conditionals\n",
    "\n",
    "Now that we know variables lets do somthing with them, A Conditional is when we check the truthy-ness of a value.\n",
    "In python \"If\" a number has a value and is not 0, it is Truthy. Lets demo an if statement using this check."
   ]
  },
  {
   "cell_type": "code",
   "execution_count": 1,
   "metadata": {},
   "outputs": [],
   "source": [
    "truthy_num = 15\n",
    "\n",
    "if truthy_num:\n",
    "    print('it is truthy')"
   ]
  },
  {
   "cell_type": "markdown",
   "metadata": {},
   "source": [
    "Notice the indent and the colon...\n",
    "Python uses indents to separate chunks of code"
   ]
  },
  {
   "cell_type": "markdown",
   "metadata": {},
   "source": [
    "But what does this If statement do? It's simple it reads \"if (this thing) is true, do the code underneath this line that is indented."
   ]
  },
  {
   "cell_type": "markdown",
   "metadata": {},
   "source": [
    "We can close out of the statment by returning to the original identiation like this:\n"
   ]
  },
  {
   "cell_type": "code",
   "execution_count": 2,
   "metadata": {},
   "outputs": [],
   "source": [
    "if truthy_num:\n",
    "    print('this is the if statement code')\n",
    "print('this is not')"
   ]
  },
  {
   "cell_type": "markdown",
   "metadata": {},
   "source": [
    "This example shows that you run code not indented after the if block. This code is executed after the conditional."
   ]
  },
  {
   "cell_type": "markdown",
   "metadata": {},
   "source": [
    "There's more, we can also check to see if something is not truthy:\n"
   ]
  },
  {
   "cell_type": "code",
   "execution_count": 3,
   "metadata": {},
   "outputs": [
    {
     "name": "stdout",
     "output_type": "stream",
     "text": [
      "this will show up\n"
     ]
    }
   ],
   "source": [
    "if not truthy_num:\n",
    "    print('this wont show up')\n",
    "else:\n",
    "    print('this will show up')\n"
   ]
  },
  {
   "cell_type": "markdown",
   "metadata": {},
   "source": [
    "the \"not\" statement means we are checking to see if something is NOT true.\n"
   ]
  },
  {
   "cell_type": "markdown",
   "metadata": {},
   "source": [
    "The else cases after the if statement handles the other cases.\n",
    "We made sure that based on this code block one of two outcomes would happen."
   ]
  },
  {
   "cell_type": "markdown",
   "metadata": {},
   "source": [
    "# Booleans\n"
   ]
  },
  {
   "cell_type": "markdown",
   "metadata": {},
   "source": [
    "Now booleans, are actual True / False values"
   ]
  },
  {
   "cell_type": "code",
   "execution_count": 4,
   "metadata": {},
   "outputs": [
    {
     "name": "stdout",
     "output_type": "stream",
     "text": [
      "its true, chief\n"
     ]
    }
   ],
   "source": [
    "bool_variable = True \n",
    "\n",
    "if bool_variable:\n",
    "    print('its true, chief')\n",
    "elif not bool_variable:\n",
    "    print('not sure about that one, chief')\n",
    "else:\n",
    "    print(\"I don't know about that one chief\")"
   ]
  },
  {
   "cell_type": "markdown",
   "metadata": {},
   "source": [
    "This checks the literal value of bool_variable.\n",
    "    Because bool_variable is assigned a ```true``` value, it will execute the code underneath the first ```if```\n",
    "\n",
    "We also see the elif, this means ELSE IF,\n",
    "\"elif\" is kinda like putting multiple IF's together. (note the same syntax)It says if bool variable is not true, we are going to do this elif here, if that fails we'll do the else statement.\n",
    "\n",
    "else handles everything else, that's why it is at the very end; but, else is not neccessary. So, if we want something to run anyway we can use else\n",
    "\n",
    "you can have as many elif's as you can imagine."
   ]
  },
  {
   "cell_type": "markdown",
   "metadata": {},
   "source": [
    "Note: A value can also be NONE, or have NO VALUE. zero and none are different as zero HAS A VALUE\n"
   ]
  },
  {
   "cell_type": "code",
   "execution_count": 5,
   "metadata": {},
   "outputs": [
    {
     "name": "stdout",
     "output_type": "stream",
     "text": [
      "it has no value\n"
     ]
    }
   ],
   "source": [
    "no_value_data = None\n",
    "\n",
    "if no_value_data:\n",
    "    print('it has value')\n",
    "else:\n",
    "    print('it has no value')\n"
   ]
  },
  {
   "cell_type": "markdown",
   "metadata": {},
   "source": [
    "If we run this, we see that because no_value_data is None it is 'Falsey'\n",
    "therefore it runs the else statement.\n",
    "\n",
    "Now try Challenge 2 in 17_Challenges.txt"
   ]
  }
 ],
 "metadata": {
  "kernelspec": {
   "display_name": "Python 3",
   "language": "python",
   "name": "python3"
  },
  "language_info": {
   "codemirror_mode": {
    "name": "ipython",
    "version": 3
   },
   "file_extension": ".py",
   "mimetype": "text/x-python",
   "name": "python",
   "nbconvert_exporter": "python",
   "pygments_lexer": "ipython3",
   "version": "3.6.7"
  }
 },
 "nbformat": 4,
 "nbformat_minor": 2
}
