{
 "cells": [
  {
   "cell_type": "markdown",
   "metadata": {},
   "source": [
    "# Dictionaries\n",
    "\n",
    "Remember that I said we're going to be talking about other collections?\n",
    "Get ready for dictionaries, a dictionary is diffrent from a list because it forms a \"KeyValue Pair\", here is an example:\n"
   ]
  },
  {
   "cell_type": "code",
   "execution_count": 1,
   "metadata": {},
   "outputs": [],
   "source": [
    "#           Key    Value\n",
    "student = {'name': 'mark', 'student_id': 1, 'feedback': None}"
   ]
  },
  {
   "cell_type": "markdown",
   "metadata": {},
   "source": [
    "We can also write our dictionaries like this to make it easier to read:\n"
   ]
  },
  {
   "cell_type": "code",
   "execution_count": 2,
   "metadata": {},
   "outputs": [],
   "source": [
    "student2 = {\n",
    "    'name': 'mark',\n",
    "    'student_id': 2,\n",
    "    'feedback': None\n",
    "}"
   ]
  },
  {
   "cell_type": "markdown",
   "metadata": {},
   "source": [
    "If you have prior programming knowledge this looks pretty similar to JSON (javascript object notation). Dictionaries are very useful for storing structured Data. We can also put dictionaries in a list"
   ]
  },
  {
   "cell_type": "code",
   "execution_count": 3,
   "metadata": {},
   "outputs": [],
   "source": [
    "all_students = [\n",
    "    {\n",
    "        'name':'mark',\n",
    "        'student_id': 1\n",
    "    },\n",
    "    {\n",
    "        'name': 'jenna',\n",
    "        'student_id': 2\n",
    "    },\n",
    "    {\n",
    "        'name': 'jill',\n",
    "        'student_id': 3\n",
    "    }\n",
    "]"
   ]
  },
  {
   "cell_type": "markdown",
   "metadata": {},
   "source": [
    "But how do we get 'just the name'?\n",
    "\n",
    "We Use The Key\n",
    "\n",
    "lets use our student dictionary from earlier..."
   ]
  },
  {
   "cell_type": "code",
   "execution_count": 4,
   "metadata": {},
   "outputs": [
    {
     "name": "stdout",
     "output_type": "stream",
     "text": [
      "mark\n"
     ]
    }
   ],
   "source": [
    "name = student['name']\n",
    "print(name)"
   ]
  },
  {
   "cell_type": "markdown",
   "metadata": {},
   "source": [
    "We get mark, that is because we are giving our dictionary the \"Key\" and it gives os the \"Value\" stored under that key, cool right?"
   ]
  },
  {
   "cell_type": "markdown",
   "metadata": {},
   "source": [
    "But what if we want to get All the students name's?\n",
    "That's where the placeholders come in handy."
   ]
  },
  {
   "cell_type": "code",
   "execution_count": 5,
   "metadata": {},
   "outputs": [
    {
     "name": "stdout",
     "output_type": "stream",
     "text": [
      "mark\n",
      "jenna\n",
      "jill\n"
     ]
    }
   ],
   "source": [
    "for student in all_students:\n",
    "    print(student['name'])"
   ]
  },
  {
   "cell_type": "markdown",
   "metadata": {},
   "source": [
    "This code says for each student in all_students, store the element its looping over in student, that way we have access to the student's name.\n",
    "When it loops back after completing the print, student becomes the next student dictionary.\n",
    "We call this an 'object'. a student has multiple things in it and can be manipulated:"
   ]
  },
  {
   "cell_type": "code",
   "execution_count": 6,
   "metadata": {},
   "outputs": [
    {
     "name": "stdout",
     "output_type": "stream",
     "text": [
      "jimbo\n"
     ]
    }
   ],
   "source": [
    "all_students[0]['name'] = 'jimbo'\n",
    "print(all_students[0]['name'])"
   ]
  },
  {
   "cell_type": "markdown",
   "metadata": {},
   "source": [
    "See? We can manipulate data inside of a student OBJECT,\n",
    "be careful of Key errors, if a key deon't exist it'll throw an error.\n",
    "We can handle this by doinng a .get() function, this gives us some wiggle room in case the key doesn't exist:"
   ]
  },
  {
   "cell_type": "code",
   "execution_count": 7,
   "metadata": {},
   "outputs": [
    {
     "name": "stdout",
     "output_type": "stream",
     "text": [
      "Unknown\n"
     ]
    }
   ],
   "source": [
    "key_error = student.get('last_name', 'Unknown')\n",
    "\n",
    "print(key_error)"
   ]
  },
  {
   "cell_type": "markdown",
   "metadata": {},
   "source": [
    "We get 'Unknown'\n",
    "That's because it couldn't find the key 'last_name', so it gives us 'Unknown'\n",
    "\n",
    "We can also get all the keys and all the values in out dictionary list\n",
    "Watch Closely:"
   ]
  },
  {
   "cell_type": "code",
   "execution_count": 8,
   "metadata": {},
   "outputs": [
    {
     "name": "stdout",
     "output_type": "stream",
     "text": [
      "dict_keys(['name', 'student_id']) dict_values(['jimbo', 1])\n"
     ]
    }
   ],
   "source": [
    "keys = all_students[0].keys()\n",
    "values = all_students[0].values()\n",
    "\n",
    "print(keys, values)"
   ]
  },
  {
   "cell_type": "markdown",
   "metadata": {},
   "source": [
    "We now have 2 new lists of all our keys and values\n",
    "\n",
    "If we want to delete a full KeyValue pair from our dictionary we can use the 'del' keyword.\n",
    "Since feedback isn't doing anything, lets get rid of it:"
   ]
  },
  {
   "cell_type": "code",
   "execution_count": 2,
   "metadata": {},
   "outputs": [
    {
     "name": "stdout",
     "output_type": "stream",
     "text": [
      "{'name': 'Connor', 'student_id': 5}\n"
     ]
    }
   ],
   "source": [
    "new_student = {\n",
    "    'name': 'Connor',\n",
    "    'student_id': 5,\n",
    "    'feedback': None\n",
    "}\n",
    "\n",
    "del new_student['feedback']\n",
    "\n",
    "print(new_student)"
   ]
  },
  {
   "cell_type": "markdown",
   "metadata": {},
   "source": [
    "When we run this we see that the key value pair, 'feedback': None is gone!\n",
    "\n",
    "Now Complete Challenge 5!"
   ]
  }
 ],
 "metadata": {
  "kernelspec": {
   "display_name": "Python 3",
   "language": "python",
   "name": "python3"
  },
  "language_info": {
   "codemirror_mode": {
    "name": "ipython",
    "version": 3
   },
   "file_extension": ".py",
   "mimetype": "text/x-python",
   "name": "python",
   "nbconvert_exporter": "python",
   "pygments_lexer": "ipython3",
   "version": "3.6.7"
  }
 },
 "nbformat": 4,
 "nbformat_minor": 2
}
