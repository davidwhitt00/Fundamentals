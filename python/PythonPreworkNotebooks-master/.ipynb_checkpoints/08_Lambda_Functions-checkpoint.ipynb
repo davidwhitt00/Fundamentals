{
 "cells": [
  {
   "cell_type": "markdown",
   "metadata": {},
   "source": [
    "# Lambda Functions :\n",
    "\n",
    "lambda functions are anonymous functions that allow us to write short and simple functions\n",
    "\n",
    "they can take arguments and get called the same way as a normal function\n",
    "\n",
    "anonymous means nameless, we can use them if we need a function for a short period of time\n",
    "\n",
    "that kind of 'helps' our code. :\n",
    "\n",
    "so what if we want a function that doubles a number, lets do that now\n"
   ]
  },
  {
   "cell_type": "code",
   "execution_count": 1,
   "metadata": {},
   "outputs": [],
   "source": [
    "def double(x):\n",
    "    return x * 2\n",
    "\n"
   ]
  },
  {
   "cell_type": "markdown",
   "metadata": {},
   "source": [
    "Easy right? lets make it even simpler :\n"
   ]
  },
  {
   "cell_type": "code",
   "execution_count": 2,
   "metadata": {},
   "outputs": [],
   "source": [
    "doubled_number = lambda x: x * 2 # notice no parenthesis and the new 'lambda' keyword"
   ]
  },
  {
   "cell_type": "markdown",
   "metadata": {},
   "source": [
    "the x is our parameter(s) and our return is implied. we don't need to specify what we are returning. That's because lambdas are meant to be short and modular functions it isn't expecting 50+ lines of code, so it knows we want it to return x times 2"
   ]
  },
  {
   "cell_type": "markdown",
   "metadata": {},
   "source": [
    "and then to call it we do this :"
   ]
  },
  {
   "cell_type": "code",
   "execution_count": 3,
   "metadata": {},
   "outputs": [
    {
     "name": "stdout",
     "output_type": "stream",
     "text": [
      "10\n"
     ]
    }
   ],
   "source": [
    "print(doubled_number(5))"
   ]
  },
  {
   "cell_type": "markdown",
   "metadata": {},
   "source": [
    "This is useful in higher order functions, or function that take functions as arguments, so instead of writing out an entire function we can just give it a lambda!\n",
    "\n",
    "Here's an example of that :\n"
   ]
  },
  {
   "cell_type": "code",
   "execution_count": 1,
   "metadata": {},
   "outputs": [
    {
     "name": "stdout",
     "output_type": "stream",
     "text": [
      "[2, 4, 6, 8]\n"
     ]
    }
   ],
   "source": [
    "my_list = [1, 2, 3, 4, 5, 6, 7, 8]\n",
    "\n",
    "even_list = list(filter(lambda x: (x % 2 == 0), my_list))\n",
    "\n",
    "print(even_list)"
   ]
  },
  {
   "cell_type": "markdown",
   "metadata": {},
   "source": [
    "This concept can be a bit tricky for new developers but don't worry if you don't understand it. The prework is meant to get you familiar with the concept, NOT be an expert in it"
   ]
  }
 ],
 "metadata": {
  "kernelspec": {
   "display_name": "Python 3",
   "language": "python",
   "name": "python3"
  },
  "language_info": {
   "codemirror_mode": {
    "name": "ipython",
    "version": 3
   },
   "file_extension": ".py",
   "mimetype": "text/x-python",
   "name": "python",
   "nbconvert_exporter": "python",
   "pygments_lexer": "ipython3",
   "version": "3.6.7"
  }
 },
 "nbformat": 4,
 "nbformat_minor": 2
}
