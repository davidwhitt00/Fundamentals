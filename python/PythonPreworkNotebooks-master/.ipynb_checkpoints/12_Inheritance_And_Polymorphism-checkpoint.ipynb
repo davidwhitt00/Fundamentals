{
 "cells": [
  {
   "cell_type": "markdown",
   "metadata": {},
   "source": [
    "# Inheritance and Polymorphism :\n",
    "\n",
    "Inheritance is how we can create a 'parent-child' relationship with our classes.\n",
    "Imagine having a class that alreays has properties that we ddon's declare because they come from our \"parent\" class. \n",
    "\n",
    "Python allows us to do this,\n",
    "lets make an \"animal\" class :\n"
   ]
  },
  {
   "cell_type": "code",
   "execution_count": 1,
   "metadata": {},
   "outputs": [],
   "source": [
    "class Animal:\n",
    "    def speak(self):\n",
    "        return \"I'm an animal \""
   ]
  },
  {
   "cell_type": "markdown",
   "metadata": {},
   "source": [
    "But what is an animal? An animal is a group of mammals, fish, and other organisms. So lets dig down a little deeper. :"
   ]
  },
  {
   "cell_type": "code",
   "execution_count": 2,
   "metadata": {},
   "outputs": [],
   "source": [
    "class Dog(Animal): # notic how we added parenthesis to our class name... hmm\n",
    "    def __init__(self, name):\n",
    "        self.name = name\n",
    "        \n",
    "    def get_greeting(self):\n",
    "        return \"My name is \" + self.name\n",
    "    \n"
   ]
  },
  {
   "cell_type": "markdown",
   "metadata": {},
   "source": [
    "When we add parenthesis to our class declaration, that means the class we are defining \"DERIVES\" from what ever is in the parenthesis. That also of gibberish so let's see what it can do. :"
   ]
  },
  {
   "cell_type": "code",
   "execution_count": 3,
   "metadata": {},
   "outputs": [
    {
     "name": "stdout",
     "output_type": "stream",
     "text": [
      "My name is max\n",
      "I'm an animal \n"
     ]
    }
   ],
   "source": [
    "dog = Dog('max')\n",
    "print(dog.get_greeting())\n",
    "print(dog.speak())"
   ]
  },
  {
   "cell_type": "markdown",
   "metadata": {},
   "source": [
    "But wait.... we don't have a \"speak()\" function in dog. That's right! It's our animal class, howeer our dog class derives from animal, so our dog class gets ALL of our functions and attributes from animal.\n",
    "\n",
    "This is what a \"parent-child\" or \"base-sub\" class relationship is, we could also continue the chain and have classes that derive from \"Dog\", but that's out of scope for now.\n",
    "\n",
    "That is inheritance on a basic level, now lets talk about \"Polymorphism\""
   ]
  },
  {
   "cell_type": "markdown",
   "metadata": {},
   "source": [
    "# Polymorphism :\n",
    "\n",
    "Polymorphism simply is changing similar behavior between classes.\n",
    "\n",
    "Let's make a new child class of Animal to see how this works. :"
   ]
  },
  {
   "cell_type": "code",
   "execution_count": 4,
   "metadata": {},
   "outputs": [
    {
     "name": "stdout",
     "output_type": "stream",
     "text": [
      "tweet\n"
     ]
    }
   ],
   "source": [
    "class Bird(Animal):\n",
    "    \n",
    "    def speak(self):\n",
    "        return 'tweet'\n",
    "    \n",
    "bird = Bird()\n",
    "print(bird.speak())\n",
    "    "
   ]
  },
  {
   "cell_type": "markdown",
   "metadata": {},
   "source": [
    "Notice how we already have a speak function defined in our parent class \"Animal\", we can OVERRIDE that method in our parent class and change the behavior.\n",
    "\n",
    "But what if we want to use the parent class' method? Lets make a new child class of \"Animal\" and change it up :"
   ]
  },
  {
   "cell_type": "code",
   "execution_count": 5,
   "metadata": {},
   "outputs": [],
   "source": [
    "class Turtle(Animal):\n",
    "    \n",
    "    def speak(self):\n",
    "        return super().speak() + \"and I'm a turtle\"\n",
    "        # the 'super()' keyword means \"refer to the parent class\"\n",
    "        # it works the same as the \"self\" keyword"
   ]
  },
  {
   "cell_type": "markdown",
   "metadata": {},
   "source": [
    "Now lets make a turtle instance and see what happens when we print the turtles speak() function. :"
   ]
  },
  {
   "cell_type": "code",
   "execution_count": 6,
   "metadata": {},
   "outputs": [
    {
     "name": "stdout",
     "output_type": "stream",
     "text": [
      "I'm an animal and I'm a turtle\n"
     ]
    }
   ],
   "source": [
    "turtle = Turtle()\n",
    "print(turtle.speak())"
   ]
  },
  {
   "cell_type": "markdown",
   "metadata": {},
   "source": [
    "We can use the super() keyword for all atributes, functions, and constructors in a derived/child class."
   ]
  }
 ],
 "metadata": {
  "kernelspec": {
   "display_name": "Python 3",
   "language": "python",
   "name": "python3"
  },
  "language_info": {
   "codemirror_mode": {
    "name": "ipython",
    "version": 3
   },
   "file_extension": ".py",
   "mimetype": "text/x-python",
   "name": "python",
   "nbconvert_exporter": "python",
   "pygments_lexer": "ipython3",
   "version": "3.6.7"
  }
 },
 "nbformat": 4,
 "nbformat_minor": 2
}
