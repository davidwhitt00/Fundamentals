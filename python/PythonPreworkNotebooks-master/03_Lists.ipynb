{
 "cells": [
  {
   "cell_type": "markdown",
   "metadata": {},
   "source": [
    "# Lists\n",
    "\n",
    "Lists are a type of collection, we will get into other types that python has to offer later on.\n",
    "\n",
    "Lists are like we said, collections. This means we can put data, variables and even other lists, into lists\n",
    "\n",
    "To make a new list all we have to do is give a variable some square brackets:\n"
   ]
  },
  {
   "cell_type": "code",
   "execution_count": 1,
   "metadata": {},
   "outputs": [],
   "source": [
    "empty_list = []"
   ]
  },
  {
   "cell_type": "markdown",
   "metadata": {},
   "source": [
    "This is a list with nothing in it."
   ]
  },
  {
   "cell_type": "code",
   "execution_count": 2,
   "metadata": {},
   "outputs": [
    {
     "name": "stdout",
     "output_type": "stream",
     "text": [
      "['this', 'list', 'has', 'stuff']\n"
     ]
    }
   ],
   "source": [
    "list_with_stuff = ['this' , 'list' , 'has' , 'stuff']\n",
    "print(list_with_stuff)"
   ]
  },
  {
   "cell_type": "markdown",
   "metadata": {},
   "source": [
    "This list has stuff in it, it is a list of STRINGS"
   ]
  },
  {
   "cell_type": "markdown",
   "metadata": {},
   "source": [
    "To add an item to a list you can use the ```append()``` method :"
   ]
  },
  {
   "cell_type": "code",
   "execution_count": 3,
   "metadata": {},
   "outputs": [
    {
     "name": "stdout",
     "output_type": "stream",
     "text": [
      "[1]\n"
     ]
    }
   ],
   "source": [
    "empty_list.append(1)\n",
    "print(empty_list)"
   ]
  },
  {
   "cell_type": "markdown",
   "metadata": {},
   "source": [
    "This will add 1 to our list, you can have many diffrent data types in a list."
   ]
  },
  {
   "cell_type": "code",
   "execution_count": 4,
   "metadata": {},
   "outputs": [
    {
     "name": "stdout",
     "output_type": "stream",
     "text": [
      "[1, 'a string']\n"
     ]
    }
   ],
   "source": [
    "empty_list.append(\"a string\")\n",
    "print (empty_list)"
   ]
  },
  {
   "cell_type": "markdown",
   "metadata": {},
   "source": [
    "Now here is an example of making a list of strings from a single string."
   ]
  },
  {
   "cell_type": "code",
   "execution_count": 5,
   "metadata": {},
   "outputs": [
    {
     "name": "stdout",
     "output_type": "stream",
     "text": [
      "['this', 'is', 'a', 'long', 'string', 'with', 'lots', 'of', 'words']\n"
     ]
    }
   ],
   "source": [
    "string = 'this is a long string with lots of words'\n",
    "string_list = string.split(' ')\n",
    "\n",
    "print(string_list)"
   ]
  },
  {
   "cell_type": "markdown",
   "metadata": {},
   "source": [
    "We can see that the split function made a list of strings out of the large string."
   ]
  },
  {
   "cell_type": "markdown",
   "metadata": {},
   "source": [
    "While we're at it lets see some other string functions we can use:"
   ]
  },
  {
   "cell_type": "code",
   "execution_count": 6,
   "metadata": {},
   "outputs": [],
   "source": [
    "capitalize = 'capitalize'.capitalize()"
   ]
  },
  {
   "cell_type": "code",
   "execution_count": 7,
   "metadata": {},
   "outputs": [],
   "source": [
    "replace = 'replace'.replace('e', 'a')\n"
   ]
  },
  {
   "cell_type": "code",
   "execution_count": 8,
   "metadata": {},
   "outputs": [],
   "source": [
    "is_alpha = 'hello'.isalpha() \n",
    "# Checks if the string have value, or is a truthy string"
   ]
  },
  {
   "cell_type": "code",
   "execution_count": 9,
   "metadata": {},
   "outputs": [],
   "source": [
    "is_digit = '1'.isdigit()\n",
    "# Checks if the string can be converted to a numerical value"
   ]
  },
  {
   "cell_type": "code",
   "execution_count": 10,
   "metadata": {},
   "outputs": [
    {
     "name": "stdout",
     "output_type": "stream",
     "text": [
      "Capitalize\n",
      "raplaca\n",
      "True\n",
      "True\n"
     ]
    }
   ],
   "source": [
    "print(capitalize)\n",
    "print(replace)\n",
    "print(is_alpha)\n",
    "print(is_digit)"
   ]
  },
  {
   "cell_type": "markdown",
   "metadata": {},
   "source": [
    "This shows some of the string methods."
   ]
  },
  {
   "cell_type": "markdown",
   "metadata": {},
   "source": [
    "Let's see what the split methhod does to this name:"
   ]
  },
  {
   "cell_type": "code",
   "execution_count": 11,
   "metadata": {},
   "outputs": [
    {
     "name": "stdout",
     "output_type": "stream",
     "text": [
      "['billy', 'bob']\n"
     ]
    }
   ],
   "source": [
    "full_name = 'billy bob'\n",
    "full_name_list = full_name.split(' ')\n",
    "print(full_name_list)"
   ]
  },
  {
   "cell_type": "markdown",
   "metadata": {},
   "source": [
    "Now we have a list with 2 values, their first and last name,\n",
    "let's now capitalize everything in the list!\n",
    "We do this by calling the 'index' of the item in the list:"
   ]
  },
  {
   "cell_type": "code",
   "execution_count": 12,
   "metadata": {},
   "outputs": [],
   "source": [
    "full_name_list[0] = full_name_list[0].capitalize()\n",
    "full_name_list[1] = full_name_list[1].capitalize()"
   ]
  },
  {
   "cell_type": "markdown",
   "metadata": {},
   "source": [
    "The index is the spot of an item in the list. All lists in python start at 0.\n",
    "What we did was reassign the specific index to the capitalized version of itself inside the list. That's why we typed full_name_list[0/1] twice. \n",
    "Let's print the result now:"
   ]
  },
  {
   "cell_type": "code",
   "execution_count": 13,
   "metadata": {},
   "outputs": [
    {
     "name": "stdout",
     "output_type": "stream",
     "text": [
      "['Billy', 'Bob']\n"
     ]
    }
   ],
   "source": [
    "print(full_name_list)"
   ]
  },
  {
   "cell_type": "markdown",
   "metadata": {},
   "source": [
    "We can also have negative indexes of elements, whem we use negtive indexes, it starts at the end of the list.\n",
    "Also, the last element is [-1], not 0 or -0."
   ]
  },
  {
   "cell_type": "code",
   "execution_count": 14,
   "metadata": {},
   "outputs": [
    {
     "name": "stdout",
     "output_type": "stream",
     "text": [
      "Bob\n"
     ]
    }
   ],
   "source": [
    "print (full_name_list[-1])"
   ]
  },
  {
   "cell_type": "markdown",
   "metadata": {},
   "source": [
    "## Sidenote: \n",
    "We can also convert variables to other types:"
   ]
  },
  {
   "cell_type": "code",
   "execution_count": 15,
   "metadata": {},
   "outputs": [
    {
     "name": "stdout",
     "output_type": "stream",
     "text": [
      "6\n"
     ]
    }
   ],
   "source": [
    "is_digit = int(is_digit)\n",
    "is_another_digit = 5\n",
    "\n",
    "print(is_digit + is_another_digit)"
   ]
  },
  {
   "cell_type": "markdown",
   "metadata": {},
   "source": [
    "When we run this we got 6 because we converted a string to an integer.\n",
    "\n",
    "Now Complete Challenge 3."
   ]
  }
 ],
 "metadata": {
  "kernelspec": {
   "display_name": "Python 3",
   "language": "python",
   "name": "python3"
  },
  "language_info": {
   "codemirror_mode": {
    "name": "ipython",
    "version": 3
   },
   "file_extension": ".py",
   "mimetype": "text/x-python",
   "name": "python",
   "nbconvert_exporter": "python",
   "pygments_lexer": "ipython3",
   "version": "3.7.1"
  }
 },
 "nbformat": 4,
 "nbformat_minor": 2
}
