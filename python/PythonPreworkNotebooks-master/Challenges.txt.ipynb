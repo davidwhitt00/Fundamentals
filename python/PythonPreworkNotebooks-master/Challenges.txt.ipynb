{
 "cells": [
  {
   "cell_type": "markdown",
   "metadata": {},
   "source": [
    "# Challenges :"
   ]
  },
  {
   "cell_type": "markdown",
   "metadata": {},
   "source": [
    "\n",
    "Challenge 1:\n",
    "\n",
    "    Write a program that switches the value of two variables 'a' and 'b'\n",
    "    hint: you can use temporary variables to hold values\n",
    "\n",
    "\n",
    "Challenge 2:\n",
    "\n",
    "    Write a program that has one variable 'n = 7', that checks to see if n is less than 5. if n IS NOT less than 5,\n",
    "    it should check to see if n is not greater than 8. if that is true then it should say 'the value is less than 8'\n",
    "\n",
    "\n",
    "Challenge 3:\n",
    "\n",
    "    Write a program that converts the string 'abcabc' into the list ['ab', 'ab'] and print it to the\n",
    "    console, then turn the list into the string 'abab'\n",
    "\n",
    "\n",
    "Challenge 4:\n",
    "\n",
    "    Write a program that loops to a range of 1000 but only prints the number its on every 100 loops until its done\n",
    "    hint: use a counter variable that keeps track of every loop, and reset the value when it prints. After the loop\n",
    "    it should print 'Done'\n",
    "\n",
    "\n",
    "Challenge 5:\n",
    "\n",
    "    Write a program that looks through the dictionary my_dict = { 'a': 1, 'b': 2, 'c': 3, 'd': 4} and outputs\n",
    "    my_dict = {'a': 1, 'b': 0, 'c': 3, 'd': 0}\n",
    "    Hint: 01_Variables_And_HelloWorld has something that will help find even numbers, and google is your friend\n",
    "\n",
    "\n",
    "Challenge 6:\n",
    "\n",
    "    Write a program that IGNORES an exception and 'PASSES' to print 'it worked' at the very end, after the exception\n",
    "    Hint: the 'pass' keyword tells our interpreter to ignore and 'pass' over our code\n",
    "\n",
    "\n",
    "Challenge 7:\n",
    "\n",
    "    Write a function that takes in a string and returns the string broken into a list split by a space\n"
   ]
  }
 ],
 "metadata": {
  "kernelspec": {
   "display_name": "Python 3",
   "language": "python",
   "name": "python3"
  },
  "language_info": {
   "codemirror_mode": {
    "name": "ipython",
    "version": 3
   },
   "file_extension": ".py",
   "mimetype": "text/x-python",
   "name": "python",
   "nbconvert_exporter": "python",
   "pygments_lexer": "ipython3",
   "version": "3.6.7"
  }
 },
 "nbformat": 4,
 "nbformat_minor": 2
}
