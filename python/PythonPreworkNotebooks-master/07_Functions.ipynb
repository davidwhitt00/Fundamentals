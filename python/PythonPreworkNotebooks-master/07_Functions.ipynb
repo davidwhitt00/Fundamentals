{
 "cells": [
  {
   "cell_type": "markdown",
   "metadata": {},
   "source": [
    "# Functions :\n",
    "Functions are the 'verbs' of our programs, it is a block of organized and reusable code that performs a certain set of instructions.\n",
    "\n",
    "You should try to make your function do one thing and usually no more.\n",
    "We've already seen print(), print is a function. it prints something to the screen.\n",
    "\n",
    "To write a function we first need a new keyword, 'def'.\n",
    "A 'def' means we are 'defining' something. In this case, it will be a lesson"
   ]
  },
  {
   "cell_type": "code",
   "execution_count": 9,
   "metadata": {},
   "outputs": [],
   "source": [
    "students = []\n",
    "def add_student(name):\n",
    "     students.append(name)\n"
   ]
  },
  {
   "cell_type": "markdown",
   "metadata": {},
   "source": [
    "Notice the parenthesis before the colon, this is what we 'give' our function.\n",
    "We can have as many variables (or lack there of) as we want in there, they are called parameters or arguments.\n",
    "\n",
    "So whenever we do add_student() and give it a name, it will add that name to our list, lets try it :"
   ]
  },
  {
   "cell_type": "code",
   "execution_count": 10,
   "metadata": {},
   "outputs": [
    {
     "name": "stdout",
     "output_type": "stream",
     "text": [
      "['billy']\n"
     ]
    }
   ],
   "source": [
    "add_student('billy')\n",
    "print(students)\n"
   ]
  },
  {
   "cell_type": "markdown",
   "metadata": {},
   "source": [
    "We can also pass in a variable instead of a hard coded string :"
   ]
  },
  {
   "cell_type": "code",
   "execution_count": 11,
   "metadata": {},
   "outputs": [
    {
     "name": "stdout",
     "output_type": "stream",
     "text": [
      "['billy', 'billy']\n"
     ]
    }
   ],
   "source": [
    "first_name = 'billy'\n",
    "add_student(first_name)\n",
    "print(students)"
   ]
  },
  {
   "cell_type": "markdown",
   "metadata": {},
   "source": [
    "Now we see billy twice if we run this remember the parameters have to match, we can't only give our function 1 variable if we have 2 parameters where we define it\n",
    "now we're going to look at 'return' statements:"
   ]
  },
  {
   "cell_type": "code",
   "execution_count": 12,
   "metadata": {},
   "outputs": [],
   "source": [
    "add_student('jimmy')\n",
    "\n",
    "def get_students_titlecase():\n",
    "    students_titlecase = []\n",
    "    for student in students:\n",
    "        students_titlecase.append(student.title())\n",
    "    return students_titlecase \n",
    "# the return means 'give this value back to whoever called the function"
   ]
  },
  {
   "cell_type": "markdown",
   "metadata": {},
   "source": [
    "This means if we call the function get_students_titlecase() and assign it to a new variable\n",
    "the RETURN will be the value assigned to the new variable. "
   ]
  },
  {
   "cell_type": "code",
   "execution_count": 13,
   "metadata": {},
   "outputs": [
    {
     "name": "stdout",
     "output_type": "stream",
     "text": [
      "['Billy', 'Billy', 'Jimmy']\n"
     ]
    }
   ],
   "source": [
    "student_list = get_students_titlecase()\n",
    "\n",
    "print(student_list)"
   ]
  },
  {
   "cell_type": "markdown",
   "metadata": {},
   "source": [
    "Now Complete Challenge 7!"
   ]
  }
 ],
 "metadata": {
  "kernelspec": {
   "display_name": "Python 3",
   "language": "python",
   "name": "python3"
  },
  "language_info": {
   "codemirror_mode": {
    "name": "ipython",
    "version": 3
   },
   "file_extension": ".py",
   "mimetype": "text/x-python",
   "name": "python",
   "nbconvert_exporter": "python",
   "pygments_lexer": "ipython3",
   "version": "3.6.7"
  }
 },
 "nbformat": 4,
 "nbformat_minor": 2
}
