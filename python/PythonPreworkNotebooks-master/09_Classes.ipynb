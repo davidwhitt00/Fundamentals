{
 "cells": [
  {
   "cell_type": "markdown",
   "metadata": {},
   "source": [
    "# Classes :\n",
    "\n",
    "Now lets get into something we call 'classes'.\n",
    "\n",
    "Classes are similar to functions but are kind of like 'blueprints',\n",
    "they typically have more than one function, variable, and use.\n",
    "Kind of like our dictionary we were using for students. Lets make a student 'class' :"
   ]
  },
  {
   "cell_type": "code",
   "execution_count": 1,
   "metadata": {},
   "outputs": [],
   "source": [
    "students = []\n",
    "\n",
    "\n",
    "class Student:\n",
    "    def add_student(self, name, student_id=332): \n",
    "        # notice the self keyword more on that below\n",
    "        student = {'name': name, \"student_id\": student_id}\n",
    "        students.append(student)"
   ]
  },
  {
   "cell_type": "markdown",
   "metadata": {},
   "source": [
    "So now that we have a class defined we need to great an 'instance' of the class,\n",
    "that's a weird word, what does it mean?\n",
    "\n",
    "Basically it means we need to use our blueprint (the class) and make something with it,\n",
    "these instancees will be completely separate from other instances, for example :"
   ]
  },
  {
   "cell_type": "code",
   "execution_count": 2,
   "metadata": {},
   "outputs": [],
   "source": [
    "student = Student()\n",
    "lilly = Student()"
   ]
  },
  {
   "cell_type": "markdown",
   "metadata": {},
   "source": [
    "'student' and 'lilly' are both \"INSTANCES\" of the student class, but are different from each other, lilly will have a dirrent Id, different grades, etx, from student.\n",
    "\n",
    "Now that we have some instances, we can use the functions in our classes :"
   ]
  },
  {
   "cell_type": "code",
   "execution_count": 3,
   "metadata": {},
   "outputs": [
    {
     "name": "stdout",
     "output_type": "stream",
     "text": [
      "[{'name': 'Mark', 'student_id': 332}]\n"
     ]
    }
   ],
   "source": [
    "student.add_student('Mark')\n",
    "print(students)"
   ]
  },
  {
   "cell_type": "markdown",
   "metadata": {},
   "source": [
    "We can have as many functions in our classes, buts its best practice to keep it relevant to the class."
   ]
  },
  {
   "cell_type": "markdown",
   "metadata": {},
   "source": [
    "## Important Notes"
   ]
  },
  {
   "cell_type": "markdown",
   "metadata": {},
   "source": [
    "### Self\n",
    "the self keyword refers to 'this' class we are working on, or this INSTANCE of the class, it's how we refer to the class, from the class (kinda like the word mySELF).\n",
    "\n",
    "### Methods and Functions\n",
    "Methods and functions are pretty similar, up until now we have been using functions synonymous with methods, however there is a big difference. Functions are coded OUTSIDE of classes, and methods are INSIDE classes. They serve generally the same person but functions are not designed to a set class"
   ]
  }
 ],
 "metadata": {
  "kernelspec": {
   "display_name": "Python 3",
   "language": "python",
   "name": "python3"
  },
  "language_info": {
   "codemirror_mode": {
    "name": "ipython",
    "version": 3
   },
   "file_extension": ".py",
   "mimetype": "text/x-python",
   "name": "python",
   "nbconvert_exporter": "python",
   "pygments_lexer": "ipython3",
   "version": "3.6.7"
  }
 },
 "nbformat": 4,
 "nbformat_minor": 2
}
