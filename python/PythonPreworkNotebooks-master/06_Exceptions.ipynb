{
 "cells": [
  {
   "cell_type": "markdown",
   "metadata": {},
   "source": [
    "# Exceptions:\n",
    "\n",
    "Exceptions are errors that stop the program from running entirely.\n",
    "This lesson we're going to learn Exception Handling by using Try Except blocks.\n",
    "\n",
    "lets make a new student dict like we did in the last lesson:"
   ]
  },
  {
   "cell_type": "code",
   "execution_count": 1,
   "metadata": {},
   "outputs": [],
   "source": [
    "student = {\n",
    "    'name': 'Connor',\n",
    "    'student_id': 1,\n",
    "    'courses': [\n",
    "        {'name': 'english'},\n",
    "        {'name': 'math'},\n",
    "        {'name': 'science'}\n",
    "    ]\n",
    "}"
   ]
  },
  {
   "cell_type": "markdown",
   "metadata": {},
   "source": [
    "THIS MAY LOOK CONFUSING BUT ITS SIMPLE, we are putting a dictionary INSIDE another dictionary :D, I hope that's an aha moment.\n",
    "\n",
    "Last time if we searched for a Key that didn't exist, it gave us a KeyError exception and stopped the program, now lets put it in a try block.\n",
    "\n",
    "A 'Try Except' blocks read 'try this code and attempt to run it, 'except' when an error occurs':"
   ]
  },
  {
   "cell_type": "code",
   "execution_count": 2,
   "metadata": {},
   "outputs": [
    {
     "name": "stdout",
     "output_type": "stream",
     "text": [
      "no key found\n",
      "but it still works\n"
     ]
    }
   ],
   "source": [
    "try:\n",
    "    last_name = student['last_name']\n",
    "except KeyError:\n",
    "    print('no key found')\n",
    "print('but it still works')"
   ]
  },
  {
   "cell_type": "markdown",
   "metadata": {},
   "source": [
    "We see that we have no key of 'last_name' but the code still runs, and it finishes the program. This is basic exception handling if we know our code may break, we can 'catch' those exceptions and do something else.\n",
    "\n",
    "This may seem pretty stupid, but it has uses. later on when write to files, if we don't have permission to write to said file, it'll throw an exception and break the execution. instead we can say 'you don't have permission to access this file'\n",
    "\n",
    "There are many different types of exceptions in python and we'll cover a few here to get familiar. One other exception is a 'TypeError' exception, this happens when you try to manipulate 2 different data types.\n",
    "\n",
    "Lets add our last_name key value pair,\n",
    "we can do this like so:"
   ]
  },
  {
   "cell_type": "code",
   "execution_count": 3,
   "metadata": {},
   "outputs": [],
   "source": [
    "student['last_name'] = 'Mullett'"
   ]
  },
  {
   "cell_type": "markdown",
   "metadata": {},
   "source": [
    "Now lets write some new code to demonstrate."
   ]
  },
  {
   "cell_type": "code",
   "execution_count": 4,
   "metadata": {},
   "outputs": [
    {
     "ename": "TypeError",
     "evalue": "must be str, not int",
     "output_type": "error",
     "traceback": [
      "\u001b[0;31m---------------------------------------------------------------------------\u001b[0m",
      "\u001b[0;31mTypeError\u001b[0m                                 Traceback (most recent call last)",
      "\u001b[0;32m<ipython-input-4-692cab7574ab>\u001b[0m in \u001b[0;36m<module>\u001b[0;34m\u001b[0m\n\u001b[0;32m----> 1\u001b[0;31m \u001b[0mprint\u001b[0m\u001b[0;34m(\u001b[0m\u001b[0;34m'string'\u001b[0m \u001b[0;34m+\u001b[0m \u001b[0;36m1\u001b[0m\u001b[0;34m)\u001b[0m\u001b[0;34m\u001b[0m\u001b[0m\n\u001b[0m",
      "\u001b[0;31mTypeError\u001b[0m: must be str, not int"
     ]
    }
   ],
   "source": [
    "print('string' + 1)"
   ]
  },
  {
   "cell_type": "markdown",
   "metadata": {},
   "source": [
    "This will throw a type error.\n",
    "\n",
    "Back to our student example lets catch the type error and handle it:"
   ]
  },
  {
   "cell_type": "code",
   "execution_count": null,
   "metadata": {},
   "outputs": [],
   "source": [
    "try:\n",
    "    last_name = student['last_name']\n",
    "    numbered_last_name = 3 + last_name\n",
    "except TypeError:\n",
    "    print('Type Error Occurred')\n",
    "print('but it still works')"
   ]
  },
  {
   "cell_type": "markdown",
   "metadata": {},
   "source": [
    "We can also have many different \"execpt\" statements like this:"
   ]
  },
  {
   "cell_type": "code",
   "execution_count": null,
   "metadata": {},
   "outputs": [],
   "source": [
    "try:\n",
    "    last_name = student['last_name']\n",
    "    numbered_last_name = 3 + last_name\n",
    "except TypeError:\n",
    "    print('Type Error Occurred')\n",
    "except KeyError:\n",
    "    print('Key Error Occurred')\n",
    "print('but it still works')\n"
   ]
  },
  {
   "cell_type": "markdown",
   "metadata": {},
   "source": [
    "if we don't know what exception will occur but still want to catch it we can use Exception\n",
    "or it will catch ALL exceptions, this is very useful:"
   ]
  },
  {
   "cell_type": "code",
   "execution_count": null,
   "metadata": {},
   "outputs": [],
   "source": [
    "try:\n",
    "    number = 3 + 'division'\n",
    "except Exception:\n",
    "    print('Unknown Error')"
   ]
  },
  {
   "cell_type": "markdown",
   "metadata": {},
   "source": [
    "now lets talk about 'as'...\n",
    "I think of this \"as\" capturing the statement and assigning it to a variable\n",
    "but how does this work? :"
   ]
  },
  {
   "cell_type": "code",
   "execution_count": 1,
   "metadata": {},
   "outputs": [
    {
     "name": "stdout",
     "output_type": "stream",
     "text": [
      "unsupported operand type(s) for +: 'int' and 'str'\n"
     ]
    }
   ],
   "source": [
    "try:\n",
    "    number = 3 + 'string'\n",
    "except Exception as e:\n",
    "    print(e)"
   ]
  },
  {
   "cell_type": "markdown",
   "metadata": {},
   "source": [
    "This captures our full exception as the variable 'e' and prints it to the console, this is a way easier to figure out exactly what our exception says, instead of saying 'unknown error', make sense?\n",
    "\n",
    "We will use 'as' later for importing different libraries.\n",
    "\n",
    "When we run this we see 'unsupported operand type(s) for +: 'int' and 'str''\n",
    "that's a pretty good description of what is causing the error, it also sounds like something we can write to a log.\n",
    "A good question is 'when do i use exception handling?'\n",
    "the answer is 'whenever an error can be prevalent and can potentially break our program'.\n",
    "\n",
    "Now Complete Challenge 6.\n"
   ]
  }
 ],
 "metadata": {
  "kernelspec": {
   "display_name": "Python 3",
   "language": "python",
   "name": "python3"
  },
  "language_info": {
   "codemirror_mode": {
    "name": "ipython",
    "version": 3
   },
   "file_extension": ".py",
   "mimetype": "text/x-python",
   "name": "python",
   "nbconvert_exporter": "python",
   "pygments_lexer": "ipython3",
   "version": "3.6.7"
  }
 },
 "nbformat": 4,
 "nbformat_minor": 2
}
