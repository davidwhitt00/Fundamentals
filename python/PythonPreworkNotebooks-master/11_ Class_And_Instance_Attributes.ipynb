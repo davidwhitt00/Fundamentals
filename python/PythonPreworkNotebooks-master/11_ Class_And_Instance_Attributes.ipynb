{
 "cells": [
  {
   "cell_type": "markdown",
   "metadata": {},
   "source": [
    "# Class and Instance Attributes :\n",
    "\n",
    "For this lesson we're are going to need to bring back our class from the last lesson\n",
    "with a few key add ons, necessary to explain, consider the following code :\n"
   ]
  },
  {
   "cell_type": "code",
   "execution_count": 1,
   "metadata": {},
   "outputs": [],
   "source": [
    "students = []\n",
    "\n",
    "\n",
    "class Student:\n",
    "    def __init__(self, name, student_id):\n",
    "        self.name = name  # <- Notice how we are creating variables here,\n",
    "        self.student_id = student_id  # <- these allow us to get rid our dictionary\n",
    "        # these variables will be in every single student object we create now\n",
    "        # AND we don't have a dictionary anymore so everything is more accessible\n",
    "        students.append(self)  # this means append 'THIS INSTANCE' to our list above\n",
    "\n",
    "    def __str__(self):\n",
    "        return '{0} {1}'.format(self.name, self.student_id)\n",
    "        # here we want to return the variables of our student instance, so we can\n",
    "        # use the variables inside of our return statement so every instance is unique\n",
    "        # remember to use 'self' again\n",
    "\n",
    "    def get_name_capitalized(self):  # our new method that takes in this instance\n",
    "        return self.name.capitalize()  # and takes the variable 'name' created above\n",
    "        # and capitalizes it, remember we need self so it knows we are talking about\n",
    "        # 'THIS' student, not another one, it is referring to 'ITS SELF'\n"
   ]
  },
  {
   "cell_type": "code",
   "execution_count": 2,
   "metadata": {},
   "outputs": [
    {
     "name": "stdout",
     "output_type": "stream",
     "text": [
      "mark 5\n",
      "Mark\n"
     ]
    }
   ],
   "source": [
    "mark = Student('mark', 5)\n",
    "marks_name = mark.get_name_capitalized()\n",
    "\n",
    "print(mark)\n",
    "print(marks_name)\n"
   ]
  },
  {
   "cell_type": "markdown",
   "metadata": {},
   "source": [
    "This is a lot of code, and a lot of comments, but that's fine, take a minute to disect and figure out what's goin on when we creat a new student.\n",
    "\n",
    "OK, so now that we see the many uses of 'INSTANCE' attributes, let's dive into 'CLASS' attributes. Instance attributes will always be marked with 'self' that means they are available to all instances, but what if we onlu have 1 school? \n",
    "\n",
    "Consider the following code :"
   ]
  },
  {
   "cell_type": "code",
   "execution_count": 3,
   "metadata": {},
   "outputs": [],
   "source": [
    "class School:\n",
    "    school_name = 'a good school'\n",
    "    school_address = '321 good lane'"
   ]
  },
  {
   "cell_type": "markdown",
   "metadata": {},
   "source": [
    "This is still a class, however we don't see any constructors or generator methods (such as __str__). Now check this out :"
   ]
  },
  {
   "cell_type": "code",
   "execution_count": 4,
   "metadata": {},
   "outputs": [
    {
     "name": "stdout",
     "output_type": "stream",
     "text": [
      "a good school\n"
     ]
    }
   ],
   "source": [
    "print(School.school_name)"
   ]
  },
  {
   "cell_type": "markdown",
   "metadata": {},
   "source": [
    "THIS WORKS, but we never made an instance of 'School' (school = School()).\n",
    "That's weird...\n",
    "That's because these are 'STATIC' 'CLASS' Attributes, in other words, we only have 1 school\n",
    "when something is static we don't need to create an instance, we WILL cover that later on so don't worry if that's too much right now, just remember why we use 'self'."
   ]
  }
 ],
 "metadata": {
  "kernelspec": {
   "display_name": "Python 3",
   "language": "python",
   "name": "python3"
  },
  "language_info": {
   "codemirror_mode": {
    "name": "ipython",
    "version": 3
   },
   "file_extension": ".py",
   "mimetype": "text/x-python",
   "name": "python",
   "nbconvert_exporter": "python",
   "pygments_lexer": "ipython3",
   "version": "3.6.6"
  }
 },
 "nbformat": 4,
 "nbformat_minor": 2
}
