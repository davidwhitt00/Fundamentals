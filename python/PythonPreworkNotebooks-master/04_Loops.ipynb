{
 "cells": [
  {
   "cell_type": "markdown",
   "metadata": {},
   "source": [
    "# Loops\n",
    "\n",
    "In our last file we capitalized each element in a list,\n",
    "if lists are larger we dont want to copy and paste lines of code for each element in the list.\n",
    "\n",
    "Loops make it se we can do things like this easier!"
   ]
  },
  {
   "cell_type": "markdown",
   "metadata": {},
   "source": [
    "The first loop we will look at is the ```for``` loop,\n",
    "they can be kind of tricky.\n",
    "\n",
    "They read like this \"for every thing in the big thing, execute the block of code below that is indented\"\n",
    "\n",
    "Lets declare a list to loop through:\n"
   ]
  },
  {
   "cell_type": "code",
   "execution_count": 1,
   "metadata": {},
   "outputs": [],
   "source": [
    "student_names = ['mark', 'jimmy', 'doug', 'bill']\n"
   ]
  },
  {
   "cell_type": "markdown",
   "metadata": {},
   "source": [
    "now the ```for``` loop:"
   ]
  },
  {
   "cell_type": "code",
   "execution_count": 2,
   "metadata": {},
   "outputs": [
    {
     "name": "stdout",
     "output_type": "stream",
     "text": [
      "student name: mark\n",
      "student name: jimmy\n",
      "student name: doug\n",
      "student name: bill\n"
     ]
    }
   ],
   "source": [
    "for name in student_names:\n",
    "    print(\"student name: \" + name)\n"
   ]
  },
  {
   "cell_type": "markdown",
   "metadata": {},
   "source": [
    "name is a placeholder variable, it is the single item that loops through each time and changes value, based on where it is in the loop.\n",
    "\n",
    "If we run this you'll see that the name variable changes each time, this is because it \"loops\" the same code until it reaches the end of the list."
   ]
  },
  {
   "cell_type": "markdown",
   "metadata": {},
   "source": [
    "But what if we don't have a list?\n",
    "What if we want to just add some numbers together?\n",
    "We can do that too!\n",
    "The format is a bit diffrent though:\n"
   ]
  },
  {
   "cell_type": "code",
   "execution_count": 3,
   "metadata": {},
   "outputs": [
    {
     "name": "stdout",
     "output_type": "stream",
     "text": [
      "x : 10\n",
      "x : 20\n",
      "x : 30\n",
      "x : 40\n",
      "x : 50\n",
      "x : 60\n",
      "x : 70\n",
      "x : 80\n",
      "x : 90\n",
      "x : 100\n"
     ]
    }
   ],
   "source": [
    "x = 0\n",
    "for index in range(10):\n",
    "    x = x + 10\n",
    "    print('x : {0}'.format(x))"
   ]
  },
  {
   "cell_type": "markdown",
   "metadata": {},
   "source": [
    "Note: the range() kinda converts the number we give it, to a list\n",
    "    that way we can iterate 10 times, because it now has 10 elements\n",
    "    to loop over. Every time this loop runs it will add 10 to x and print x, try and further disect how it works."
   ]
  },
  {
   "cell_type": "markdown",
   "metadata": {},
   "source": [
    "You also see some weird syntax, the format() function allows us to plug variables of two diffrent data types, here we want to display what x is, but it's a number. We want to print a string along with it, so we have to use .format(x) at the end of the string.\n",
    "\n",
    "Inside the string we see {0}, this means 'grab the first thing in the .format() function and stick it here. (Remember python starts at 0), if we want to display more along with x we can do this :\n",
    "\n"
   ]
  },
  {
   "cell_type": "code",
   "execution_count": 4,
   "metadata": {},
   "outputs": [
    {
     "name": "stdout",
     "output_type": "stream",
     "text": [
      "x: 10, y: 20\n",
      "x: 20, y: 40\n",
      "x: 30, y: 60\n",
      "x: 40, y: 80\n",
      "x: 50, y: 100\n",
      "x: 60, y: 120\n",
      "x: 70, y: 140\n",
      "x: 80, y: 160\n",
      "x: 90, y: 180\n",
      "x: 100, y: 200\n"
     ]
    }
   ],
   "source": [
    "x = 0\n",
    "# Here we are reassigning x to 0\n",
    "y = 0\n",
    "\n",
    "for index in range(10):\n",
    "    x += 10\n",
    "    # this is short for \"x = x + 10\"\n",
    "    y += 20\n",
    "    print('x: {0}, y: {1}'.format(x, y))"
   ]
  },
  {
   "cell_type": "markdown",
   "metadata": {},
   "source": [
    "If we run the code we see that both index's of format are added to the string printed."
   ]
  },
  {
   "cell_type": "markdown",
   "metadata": {},
   "source": [
    "Note: range also has a bunch of cool stuff we can do to it:\n",
    "\n",
    "        we can start from a higher number by doing this\n",
    "        range(2, 10)\n",
    "        this reads, 'start at 2, end at 10'\n",
    "        \n",
    "        or we can skip by adding a 3rd number\n",
    "        start at 10 end at 20 count by 5 \n",
    "        range (10, 20, 5)\n",
    "        \n",
    "this is called 'overloading', we don't need to use 3 arguments but it's useful in case we ever need to.\n",
    "\n",
    "But what if we want to find one specific value and leave the loop?\n",
    "This is where we would use 'break':"
   ]
  },
  {
   "cell_type": "code",
   "execution_count": 1,
   "metadata": {},
   "outputs": [
    {
     "name": "stdout",
     "output_type": "stream",
     "text": [
      "2\n",
      "3\n",
      "4\n",
      "5\n",
      "6\n",
      "7\n"
     ]
    }
   ],
   "source": [
    "for index in range(2,12): # start at 2, end at 12\n",
    "    print(index)\n",
    "    if index == 7: # == is checking for equality, a single = is used for assignment of a variable\n",
    "        # this reads 'if inxdex equals 7'\n",
    "        break"
   ]
  },
  {
   "cell_type": "markdown",
   "metadata": {},
   "source": [
    "Running this we see that it ets to 7 but then doesn't finish at 12, why is that?\n",
    "\n",
    "It's because we do it to break \"if\" the placeholder 'index' is equal to 7. That's right we can put 'if' statements inside of loops, this is called \"nesting\"\n",
    "\n",
    "Now let say we want to skip a specific element, lets use student names for this example:\n"
   ]
  },
  {
   "cell_type": "code",
   "execution_count": 6,
   "metadata": {},
   "outputs": [
    {
     "name": "stdout",
     "output_type": "stream",
     "text": [
      "mark\n",
      "jimmy\n",
      "doug\n",
      "bill\n",
      "matt\n",
      "lawrence\n"
     ]
    }
   ],
   "source": [
    "student_names.append('connor')\n",
    "student_names.append('matt')\n",
    "student_names.append('lawrence')\n",
    "\n",
    "for name in student_names:\n",
    "    if name == 'connor':\n",
    "        continue\n",
    "    print(name)"
   ]
  },
  {
   "cell_type": "markdown",
   "metadata": {},
   "source": [
    "Continue means 'skip the rest of this loop and CONTINUE to the next element,\n",
    "this means that if the condition (name is equal to connor) is met, it will skip and NOT print."
   ]
  },
  {
   "cell_type": "markdown",
   "metadata": {},
   "source": [
    "# While loops:\n",
    " While loops read as \"While something is true, do the code block:\n",
    " "
   ]
  },
  {
   "cell_type": "code",
   "execution_count": 7,
   "metadata": {},
   "outputs": [
    {
     "name": "stdout",
     "output_type": "stream",
     "text": [
      "x: 0\n",
      "x: 1\n",
      "x: 2\n",
      "x: 3\n",
      "x: 4\n",
      "x: 5\n",
      "x: 6\n",
      "x: 7\n",
      "x: 8\n",
      "x: 9\n",
      "operation complete\n"
     ]
    }
   ],
   "source": [
    "x = 0\n",
    "while x < 10:\n",
    "    print ('x: {0}'.format(x))\n",
    "    x += 1\n",
    "print ('operation complete')"
   ]
  },
  {
   "cell_type": "markdown",
   "metadata": {},
   "source": [
    "Also note the big difference in a while loop, we have to auto increment our variable we are testing. Just to clarify that this is looping we won't see operation complete until we see 9.\n",
    "\n",
    "We can also do Infinite loops,\n",
    "these can be dangerous so be careful and get that stop button ready.\n",
    "An infinite loop is what it sounds like, it never ends.\n"
   ]
  },
  {
   "cell_type": "code",
   "execution_count": 4,
   "metadata": {},
   "outputs": [
    {
     "name": "stdout",
     "output_type": "stream",
     "text": [
      "1\n",
      "2\n",
      "3\n",
      "4\n",
      "5\n",
      "6\n",
      "7\n",
      "8\n",
      "9\n",
      "10\n"
     ]
    }
   ],
   "source": [
    "no_value = None\n",
    "x = 0\n",
    "while not no_value:\n",
    "    x += 1\n",
    "    print(x)\n",
    "    # Code below is for Juypter Notebook demos but the above loop doesn't stop.\n",
    "    if x == 10:\n",
    "        break\n",
    "\n",
    "    "
   ]
  },
  {
   "cell_type": "markdown",
   "metadata": {},
   "source": [
    "We should be carful of infinite loops as they can be hard to detect.\n",
    "We can use the break keyword to get out of said loops.\n",
    "\n",
    "Run and disect this code until you fully understand exactly whats going on here.\n",
    "\n",
    "Then do Challenge 4"
   ]
  }
 ],
 "metadata": {
  "kernelspec": {
   "display_name": "Python 3",
   "language": "python",
   "name": "python3"
  },
  "language_info": {
   "codemirror_mode": {
    "name": "ipython",
    "version": 3
   },
   "file_extension": ".py",
   "mimetype": "text/x-python",
   "name": "python",
   "nbconvert_exporter": "python",
   "pygments_lexer": "ipython3",
   "version": "3.7.1"
  }
 },
 "nbformat": 4,
 "nbformat_minor": 2
}
