{
 "cells": [
  {
   "cell_type": "markdown",
   "metadata": {},
   "source": [
    "# Constructors :\n",
    "\n",
    "Remember our syntax for creating instances?\n",
    "\n",
    "student = Student()\n",
    "\n",
    "What does 'Student()' mean? It's a constructor!\n",
    "Constructors are methods (similar to functions), that run when an instance is created, by default it is hiddenn, we can have more than one and we can write our own!\n",
    "\n",
    "Lets rewrite our student class but make it simpler with constructors. :"
   ]
  },
  {
   "cell_type": "code",
   "execution_count": 1,
   "metadata": {},
   "outputs": [],
   "source": [
    "students = []\n",
    "\n",
    "class Student:\n",
    "    def __init__(self, name, student_id):  # <- __int__ is our constructor name\n",
    "        # 2 underscores\n",
    "        student = {'name': name, 'student_id': student_id}\n",
    "        students.append(student)"
   ]
  },
  {
   "cell_type": "code",
   "execution_count": 2,
   "metadata": {},
   "outputs": [],
   "source": [
    "new_student = Student('bill', 3)"
   ]
  },
  {
   "cell_type": "markdown",
   "metadata": {},
   "source": [
    "We put the parameters here, instead of calling add_student().\n",
    "This allows us to make it simpler, and execute something on 'instantiation'\n",
    "or when we create an instance, same thing."
   ]
  },
  {
   "cell_type": "code",
   "execution_count": 3,
   "metadata": {},
   "outputs": [
    {
     "name": "stdout",
     "output_type": "stream",
     "text": [
      "[{'name': 'bill', 'student_id': 3}]\n"
     ]
    }
   ],
   "source": [
    "print(students)"
   ]
  },
  {
   "cell_type": "code",
   "execution_count": 4,
   "metadata": {},
   "outputs": [
    {
     "name": "stdout",
     "output_type": "stream",
     "text": [
      "<__main__.Student object at 0x7f431c0b1a90>\n"
     ]
    }
   ],
   "source": [
    "print(new_student)"
   ]
  },
  {
   "cell_type": "markdown",
   "metadata": {},
   "source": [
    "See what happens?\n",
    "we get __main__.Student object at (memory location)\n",
    "The code at the end is the memory address for our student object\n",
    "but we don't want that, we can use something called an 'override' method\n",
    "lets make a new class and do that.\n"
   ]
  },
  {
   "cell_type": "code",
   "execution_count": 5,
   "metadata": {},
   "outputs": [],
   "source": [
    "class Animal:\n",
    "    def __str__(self):\n",
    "        return \"It's an animal\""
   ]
  },
  {
   "cell_type": "markdown",
   "metadata": {},
   "source": [
    "Now lets create an animal instance and try and print it :"
   ]
  },
  {
   "cell_type": "code",
   "execution_count": 6,
   "metadata": {},
   "outputs": [
    {
     "name": "stdout",
     "output_type": "stream",
     "text": [
      "It's an animal\n"
     ]
    }
   ],
   "source": [
    "animal = Animal()\n",
    "print(animal)"
   ]
  },
  {
   "cell_type": "markdown",
   "metadata": {},
   "source": [
    "We get 'it's an animal' as an output.\n",
    "This is because we over rid the '__str__()'method (the tostring() method).\n",
    "So instead of giving us the default memory location we can get something else\n",
    "more on this in later lessons."
   ]
  }
 ],
 "metadata": {
  "kernelspec": {
   "display_name": "Python 3",
   "language": "python",
   "name": "python3"
  },
  "language_info": {
   "codemirror_mode": {
    "name": "ipython",
    "version": 3
   },
   "file_extension": ".py",
   "mimetype": "text/x-python",
   "name": "python",
   "nbconvert_exporter": "python",
   "pygments_lexer": "ipython3",
   "version": "3.6.7"
  }
 },
 "nbformat": 4,
 "nbformat_minor": 2
}
