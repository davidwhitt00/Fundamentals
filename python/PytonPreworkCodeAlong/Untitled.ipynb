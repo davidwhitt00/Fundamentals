{
 "cells": [
  {
   "cell_type": "code",
   "execution_count": 1,
   "metadata": {},
   "outputs": [
    {
     "name": "stdout",
     "output_type": "stream",
     "text": [
      "its true, chief\n"
     ]
    }
   ],
   "source": [
    "bool_variable = True \n",
    "\n",
    "if bool_variable:\n",
    "    print('its true, chief')\n",
    "elif not bool_variable:\n",
    "    print('not sure about that one, chief')\n",
    "else:\n",
    "    print(\"I don't know about that one chief\")"
   ]
  }
 ],
 "metadata": {
  "kernelspec": {
   "display_name": "Python 3",
   "language": "python",
   "name": "python3"
  },
  "language_info": {
   "codemirror_mode": {
    "name": "ipython",
    "version": 3
   },
   "file_extension": ".py",
   "mimetype": "text/x-python",
   "name": "python",
   "nbconvert_exporter": "python",
   "pygments_lexer": "ipython3",
   "version": "3.7.1"
  }
 },
 "nbformat": 4,
 "nbformat_minor": 2
}
